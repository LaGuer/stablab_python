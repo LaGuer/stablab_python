{
 "cells": [
  {
   "cell_type": "code",
   "execution_count": 12,
   "metadata": {},
   "outputs": [],
   "source": [
    "import numpy as np\n",
    "import matplotlib.pyplot as plt\n",
    "from stablab import (semicirc, winding_number, Evans_plot, emcset,\n",
    "                       Evans_compute, Struct, reflect_image)\n",
    "from stablab.wave_profile import profile_flux, soln"
   ]
  },
  {
   "cell_type": "code",
   "execution_count": 2,
   "metadata": {},
   "outputs": [],
   "source": [
    "from MHD1 import profile_ode, profile_jacobian\n",
    "from MHD1 import A, Ak"
   ]
  },
  {
   "cell_type": "code",
   "execution_count": 3,
   "metadata": {},
   "outputs": [],
   "source": [
    "# Parameters\n",
    "p = Struct()\n",
    "p.B = 2\n",
    "p.gamma = 5/3\n",
    "p.mu0 = 1\n",
    "p.sigma = 1\n",
    "p.vp = 0.0001\n",
    "p.mu = 1\n",
    "p.eta = -2*p.mu/3"
   ]
  },
  {
   "cell_type": "code",
   "execution_count": 4,
   "metadata": {},
   "outputs": [],
   "source": [
    "# dependent parameters\n",
    "p.a = p.vp**p.gamma*((1-p.vp)/(1-p.vp**p.gamma))"
   ]
  },
  {
   "cell_type": "code",
   "execution_count": 5,
   "metadata": {},
   "outputs": [],
   "source": [
    "# Initialising sol, the Struct with solution values\n",
    "sol = Struct({\n",
    "    'n': 1, # this is the dimension of the profile ode\n",
    "    # we divide the domain in half to deal with the\n",
    "    # non-uniqueness caused by translational invariance\n",
    "    # sol.side = 1 means we are solving the profile on the interval [0,X]\n",
    "    'side': 1,\n",
    "    'F': profile_ode, # F is the profile ode\n",
    "    'Flinear': profile_jacobian, # J is the profile ode Jacobian\n",
    "    'UL': np.array([1]), # These are the endstates of the profile and its derivative at x = -infty\n",
    "    'UR': np.array([p.vp]), # These are the endstates of the profile and its derivative at x = +infty\n",
    "    'tol': 1e-6\n",
    "    })\n",
    "sol.update({\n",
    "    'phase': 0.5*(sol['UL']+sol['UR']), # this is the phase condition for the profile at x = 0\n",
    "    'order': [0], # this indicates to which component the phase conditions is applied\n",
    "    'stats': 'on', # this prints data and plots the profile as it is solved\n",
    "    'bvp_options': {'Tol': 1e-6, 'Nmax': 200}\n",
    "    })"
   ]
  },
  {
   "cell_type": "code",
   "execution_count": 6,
   "metadata": {},
   "outputs": [
    {
     "name": "stdout",
     "output_type": "stream",
     "text": [
      "Profile boundary error:  0.022972923779057575\n",
      "Profile boundary error:  0.010584771622587308\n",
      "Profile boundary error:  0.004108532960207523\n",
      "Profile boundary error:  0.0013007012081186486\n",
      "Profile boundary error:  0.0003226392458721694\n",
      "Profile boundary error:  5.966376581956201e-05\n",
      "Profile boundary error:  7.738532996071079e-06\n",
      "Profile boundary error:  2.385273945471056e-06\n",
      "Profile boundary error:  6.53590219945599e-07\n",
      "Profile boundary error:  6.546168566101684e-07\n",
      "Profile boundary error:  6.574744174647762e-07\n",
      "Profile boundary error:  6.64043993903185e-07\n"
     ]
    }
   ],
   "source": [
    "# Solve the profile\n",
    "p, s = profile_flux(p, sol)"
   ]
  },
  {
   "cell_type": "code",
   "execution_count": 7,
   "metadata": {},
   "outputs": [
    {
     "data": {
      "image/png": "[encoded data removed]",
      "text/plain": [
       "<Figure size 432x288 with 1 Axes>"
      ]
     },
     "metadata": {
      "needs_background": "light"
     },
     "output_type": "display_data"
    }
   ],
   "source": [
    "# Plot the profile\n",
    "x = np.linspace(s['L'],s['R'],200)\n",
    "y = soln(x,s)\n",
    "\n",
    "plt.figure(\"Profile\")\n",
    "plt.plot(x,y)\n",
    "plt.show()"
   ]
  },
  {
   "cell_type": "code",
   "execution_count": 8,
   "metadata": {},
   "outputs": [],
   "source": [
    "# Set up Stablab structures\n",
    "s, e, m, c = emcset(s,'front',[2,2],'reg_adj_compound',A,Ak)"
   ]
  },
  {
   "cell_type": "code",
   "execution_count": 9,
   "metadata": {},
   "outputs": [],
   "source": [
    "# Set up the preimage\n",
    "circpnts, imagpnts, innerpnts = 30, 30, 32\n",
    "r = 1\n",
    "spread = 4\n",
    "zerodist = 10**(-4)\n",
    "# ksteps, lambda_steps = 32, 0\n",
    "preimage = semicirc(circpnts, imagpnts, c['ksteps'], r, spread, zerodist)"
   ]
  },
  {
   "cell_type": "code",
   "execution_count": 10,
   "metadata": {},
   "outputs": [],
   "source": [
    "# Compute the Evans function\n",
    "out, domain = Evans_compute(preimage,c,s,p,m,e)"
   ]
  },
  {
   "cell_type": "code",
   "execution_count": 13,
   "metadata": {},
   "outputs": [
    {
     "data": {
      "image/png": "[encoded data removed]",
      "text/plain": [
       "<Figure size 432x288 with 1 Axes>"
      ]
     },
     "metadata": {
      "needs_background": "light"
     },
     "output_type": "display_data"
    }
   ],
   "source": [
    "# Normalize and plot the Evans function\n",
    "out = out/out[0]\n",
    "w = reflect_image(out)\n",
    "Evans_plot(w)"
   ]
  },
  {
   "cell_type": "code",
   "execution_count": 15,
   "metadata": {},
   "outputs": [
    {
     "name": "stdout",
     "output_type": "stream",
     "text": [
      "Winding Number: 0.000000\n",
      "\n"
     ]
    }
   ],
   "source": [
    "windnum = winding_number(w)\n",
    "\n",
    "print('Winding Number: {:f}\\n'.format(windnum))"
   ]
  },
  {
   "cell_type": "code",
   "execution_count": null,
   "metadata": {},
   "outputs": [],
   "source": []
  }
 ],
 "metadata": {
  "kernelspec": {
   "display_name": "Python 3",
   "language": "python",
   "name": "python3"
  },
  "language_info": {
   "codemirror_mode": {
    "name": "ipython",
    "version": 3
   },
   "file_extension": ".py",
   "mimetype": "text/x-python",
   "name": "python",
   "nbconvert_exporter": "python",
   "pygments_lexer": "ipython3",
   "version": "3.6.6"
  }
 },
 "nbformat": 4,
 "nbformat_minor": 2
}
