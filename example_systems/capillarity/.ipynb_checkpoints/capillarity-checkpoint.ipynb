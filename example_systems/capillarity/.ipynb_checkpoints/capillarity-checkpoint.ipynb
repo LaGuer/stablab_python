{
 "cells": [
  {
   "cell_type": "code",
   "execution_count": 54,
   "metadata": {},
   "outputs": [],
   "source": [
    "# Imports\n",
    "import numpy as np\n",
    "import matplotlib.pyplot as plt\n",
    "from stablab import (semicirc, winding_number, Evans_plot, emcset,\n",
    "                       Evans_compute, Struct, soln, profile_flux,\n",
    "                       reflect_image)\n",
    "from stablab.evans import LdimRdim\n",
    "from stablab.root_finding import root_solver1"
   ]
  },
  {
   "cell_type": "code",
   "execution_count": 41,
   "metadata": {},
   "outputs": [],
   "source": [
    "# A matrix and compound Ak matrix for Evans Function ODE\n",
    "from capillarity import A, Ak"
   ]
  },
  {
   "cell_type": "code",
   "execution_count": 42,
   "metadata": {},
   "outputs": [],
   "source": [
    "# Profile ODE and its jacobian\n",
    "from capillarity import profile_ode, profile_jacobian"
   ]
  },
  {
   "cell_type": "code",
   "execution_count": 43,
   "metadata": {},
   "outputs": [],
   "source": [
    "# parameters\n",
    "p = Struct()\n",
    "p.gamma = 1.4\n",
    "p.vp = .15\n",
    "\n",
    "    \n",
    "# dependent parameters\n",
    "p.a = -(1-p.vp)/(1-p.vp**(-p.gamma))"
   ]
  },
  {
   "cell_type": "code",
   "execution_count": 44,
   "metadata": {},
   "outputs": [],
   "source": [
    "# This example solves the profile for $d = -0.45$ and then uses\n",
    "# continuation thereafter\n",
    "d_vals = -np.arange(0.45, 0.451, 0.001)"
   ]
  },
  {
   "cell_type": "code",
   "execution_count": 45,
   "metadata": {},
   "outputs": [
    {
     "name": "stdout",
     "output_type": "stream",
     "text": [
      "Profile boundary error:  0.006625370743212331\n",
      "Profile boundary error:  0.0022133523632964567\n",
      "Profile boundary error:  0.0005818844597306254\n",
      "Profile boundary error:  0.00011511282058603332\n",
      "Profile boundary error:  4.523093783319327e-05\n",
      "Profile boundary error:  4.5242997549077885e-05\n",
      "Profile boundary error:  4.524575963863382e-05\n",
      "Profile boundary error:  4.53199177692259e-05\n",
      "Profile boundary error:  4.53161109971344e-05\n",
      "Profile boundary error:  4.534421274158642e-05\n"
     ]
    }
   ],
   "source": [
    "# solve profile. Use continuation as an example\n",
    "s = Struct()\n",
    "for j,curr_d_val in enumerate(d_vals):\n",
    "    p.d = curr_d_val\n",
    "\n",
    "    # profile\n",
    "    s.n = 2 # this is the dimension of the profile ode\n",
    "    # we divide the domain in half to deal with the\n",
    "    # non-uniqueness caused by translational invariance\n",
    "    # s.side = 1 means we are solving the profile on the interval [0,X]\n",
    "    s.side = 1\n",
    "    s.F = profile_ode # profile_ode is the profile ode\n",
    "    s.Flinear = profile_jacobian # profile_jacobian is the profile ode Jacobian\n",
    "    s.UL = np.array([1, 0]) # These are the endstates of the profile and its derivative at x = -infty\n",
    "    s.UR = np.array([p.vp, 0]) # These are the endstates of the profile and its derivative at x = +infty\n",
    "    s.phase = 0.5*(s.UL+s.UR) # this is the phase condition for the profile at x = 0\n",
    "    s.order = [0] # this indicates to which componenet the phase conditions is applied\n",
    "    s.stats = 'on' # this prints data and plots the profile as it is solved\n",
    "\n",
    "    if j == 0:\n",
    "        # there are some other options you specify. You can look in profile_flux to see them\n",
    "        p,s = profile_flux(p,s) # solve profile for first time\n",
    "        s_old = s\n",
    "    else:\n",
    "        # this time we are using continuation\n",
    "        p,s = profile_flux(p,s,s_old); # solve profile"
   ]
  },
  {
   "cell_type": "code",
   "execution_count": 46,
   "metadata": {},
   "outputs": [
    {
     "data": {
      "image/png": "[encoded data removed]",
      "text/plain": [
       "<Figure size 432x288 with 1 Axes>"
      ]
     },
     "metadata": {
      "needs_background": "light"
     },
     "output_type": "display_data"
    }
   ],
   "source": [
    "# plot the profile\n",
    "x = np.linspace(s.L,s.R,200)\n",
    "y = soln(x,s)\n",
    "plt.title(\"Profile\")\n",
    "plt.plot(x,y[:,0].real)\n",
    "plt.plot(x,y[:,1].real)\n",
    "plt.show()"
   ]
  },
  {
   "cell_type": "code",
   "execution_count": 47,
   "metadata": {},
   "outputs": [],
   "source": [
    "# structure variables\n",
    "\n",
    "# Here you can choose the method you use for the Evans function, or you can set the option\n",
    "# to default and let it choose. [2,2] is the size of the manifold evolving from - and + infy in the\n",
    "# Evans solver. 'front' indicates you are solving for a traveling wave front and not a periodic solution\n",
    "# s,e,m,c = emcset(s,'front',LdimRdim(A,s,p),'default',A) # default for capillarity is reg_reg_polar\n",
    "# s,e,m,c = emcset(s,'front',[2,2],'reg_adj_polar',A)\n",
    "# s,e,m,c = emcset(s,'front',[2,2],'adj_reg_polar',A)\n",
    "# s,e,m,c = emcset(s,'front',[2,2],'reg_reg_polar',A)\n",
    "\n",
    "# This choice solves the right hand side via exterior products\n",
    "s,e,m,c = emcset(s, 'front', [2,2], 'adj_reg_compound', A, Ak)"
   ]
  },
  {
   "cell_type": "code",
   "execution_count": 48,
   "metadata": {},
   "outputs": [],
   "source": [
    "# display a waitbar\n",
    "c.stats = 'print' # 'on', 'print', or 'off'\n",
    "c.ksteps = 2**8"
   ]
  },
  {
   "cell_type": "code",
   "execution_count": 49,
   "metadata": {},
   "outputs": [],
   "source": [
    "# Preimage Contour\n",
    "# This is a semi circle. You can also do a semi annulus or a rectangle\n",
    "circpnts = 30\n",
    "imagpnts = 30\n",
    "R = 10\n",
    "spread = 2\n",
    "zerodist = 10**(-2)\n",
    "preimage = semicirc(circpnts,imagpnts,c.ksteps,R,spread,zerodist)"
   ]
  },
  {
   "cell_type": "code",
   "execution_count": 50,
   "metadata": {},
   "outputs": [
    {
     "name": "stdout",
     "output_type": "stream",
     "text": [
      "Finding the kato basis\n"
     ]
    }
   ],
   "source": [
    "# compute Evans function\n",
    "halfw, domain = Evans_compute(preimage,c,s,p,m,e)\n",
    "w = halfw / halfw[0]"
   ]
  },
  {
   "cell_type": "code",
   "execution_count": 55,
   "metadata": {},
   "outputs": [],
   "source": [
    "# We computed Evans function on half of contour\n",
    "# We now reflect the image across the real axis\n",
    "w = reflect_image(w)"
   ]
  },
  {
   "cell_type": "code",
   "execution_count": 56,
   "metadata": {},
   "outputs": [
    {
     "name": "stdout",
     "output_type": "stream",
     "text": [
      "Winding Number:  0\n"
     ]
    }
   ],
   "source": [
    "# Process and display data\n",
    "wnd = winding_number(w) # determine the number of roots inside the contour\n",
    "print(\"Winding Number: \",wnd)"
   ]
  },
  {
   "cell_type": "code",
   "execution_count": 57,
   "metadata": {},
   "outputs": [
    {
     "data": {
      "image/png": "[encoded data removed]",
      "text/plain": [
       "<Figure size 432x288 with 1 Axes>"
      ]
     },
     "metadata": {
      "needs_background": "light"
     },
     "output_type": "display_data"
    }
   ],
   "source": [
    "# plot the Evans function (normalized)\n",
    "Evans_plot(w)"
   ]
  },
  {
   "cell_type": "code",
   "execution_count": null,
   "metadata": {},
   "outputs": [],
   "source": []
  }
 ],
 "metadata": {
  "kernelspec": {
   "display_name": "Python 3",
   "language": "python",
   "name": "python3"
  },
  "language_info": {
   "codemirror_mode": {
    "name": "ipython",
    "version": 3
   },
   "file_extension": ".py",
   "mimetype": "text/x-python",
   "name": "python",
   "nbconvert_exporter": "python",
   "pygments_lexer": "ipython3",
   "version": "3.6.6"
  }
 },
 "nbformat": 4,
 "nbformat_minor": 2
}
