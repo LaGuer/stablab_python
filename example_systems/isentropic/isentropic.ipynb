{
 "cells": [
  {
   "cell_type": "code",
   "execution_count": 1,
   "metadata": {},
   "outputs": [],
   "source": [
    "import numpy as np\n",
    "import matplotlib.pyplot as plt\n",
    "import stablab"
   ]
  },
  {
   "cell_type": "code",
   "execution_count": 2,
   "metadata": {},
   "outputs": [],
   "source": [
    "# Profile equations\n",
    "from isentropic import profile_ode, profile_jacobian\n",
    "\n",
    "# Evans ODE equations\n",
    "from isentropic import A, Ak"
   ]
  },
  {
   "cell_type": "code",
   "execution_count": 3,
   "metadata": {},
   "outputs": [],
   "source": [
    "# parameters\n",
    "p = stablab.Struct()\n",
    "p.gamma = 5.0/3\n",
    "p.vp = 0.1\n",
    "\n",
    "# dependent parameters\n",
    "p.a = -(1-p.vp)/(1-p.vp**(-p.gamma))"
   ]
  },
  {
   "cell_type": "code",
   "execution_count": 4,
   "metadata": {},
   "outputs": [],
   "source": [
    "# Structure values\n",
    "s = stablab.Struct()\n",
    "s.n = 1 # this is the dimension of the profile ode\n",
    "# we divide the domain in half to deal with the\n",
    "# non-uniqueness caused by translational invariance\n",
    "# s.side = 1 means we are solving the profile on the interval [0,X]\n",
    "s.side = 1\n",
    "s.L = -15\n",
    "s.R = 15\n",
    "s.F = profile_ode # profile_ode is the profile ode\n",
    "s.Flinear = profile_jacobian # profile_jacobian is the profile ode Jacobian\n",
    "s.UL = np.array([1]) # These are the endstates of the profile at x = -infty\n",
    "s.UR = np.array([p.vp]) # These are the endstates of the profile at x = +infty\n",
    "s.phase = 0.5*(s.UL+s.UR) # this is the phase condition for the profile at x = 0\n",
    "s.order = [0] # this indicates to which componenet the phase conditions is applied\n",
    "s.stats = 'on' # this prints data and plots the profile as it is solved"
   ]
  },
  {
   "cell_type": "code",
   "execution_count": 5,
   "metadata": {},
   "outputs": [
    {
     "name": "stdout",
     "output_type": "stream",
     "text": [
      "Profile boundary error:  4.284159812462107e-07\n",
      "Profile boundary error:  5.166406820134029e-07\n",
      "Profile boundary error:  4.935801946048812e-07\n",
      "Profile boundary error:  4.4647455088586696e-07\n"
     ]
    },
    {
     "data": {
      "image/png": "[encoded data removed]",
      "text/plain": [
       "<Figure size 432x288 with 1 Axes>"
      ]
     },
     "metadata": {
      "needs_background": "light"
     },
     "output_type": "display_data"
    }
   ],
   "source": [
    "# solve profile for first time\n",
    "p,s = stablab.profile_flux(p,s)\n",
    "\n",
    "# plot the profile\n",
    "x = np.linspace(s.L,s.R,200)\n",
    "y = stablab.soln(x,s)\n",
    "plt.plot(x,y.real)\n",
    "plt.show()"
   ]
  },
  {
   "cell_type": "code",
   "execution_count": 6,
   "metadata": {},
   "outputs": [],
   "source": [
    "# This choice solves the right hand side via exterior products\n",
    "s.A = A\n",
    "s.Ak = Ak\n",
    "#s,e,m,c = stablab.emcset(s, 'front', [1,2], 'reg_adj_compound', A, Ak)\n",
    "s,e,m,c = stablab.emcset(s, 'front', [1,2], 'reg_reg_polar', A)\n",
    "#s,e,m,c = emcset(s,'front',[1,2],'reg_adj_polar')"
   ]
  },
  {
   "cell_type": "code",
   "execution_count": 7,
   "metadata": {},
   "outputs": [],
   "source": [
    "# display a waitbar\n",
    "c.stats = 'print' # 'on', 'print', or 'off'\n",
    "c.ksteps = 2**6"
   ]
  },
  {
   "cell_type": "code",
   "execution_count": 8,
   "metadata": {},
   "outputs": [],
   "source": [
    "# Preimage Contour\n",
    "# This is a semi circle. You can also do a semi annulus or a rectangle\n",
    "circpnts = 30\n",
    "imagpnts = 10\n",
    "R = 10\n",
    "spread = 2\n",
    "zerodist = 10**(-2)\n",
    "preimage = stablab.semicirc(circpnts,imagpnts,c.ksteps,R,spread,zerodist)"
   ]
  },
  {
   "cell_type": "code",
   "execution_count": 9,
   "metadata": {},
   "outputs": [
    {
     "name": "stdout",
     "output_type": "stream",
     "text": [
      "Finding the kato basis\n"
     ]
    }
   ],
   "source": [
    "# compute Evans function\n",
    "halfw, domain = stablab.Evans_compute(preimage,c,s,p,m,e)\n",
    "\n",
    "# Normalize the solution\n",
    "w = halfw / halfw[0]\n",
    "# Reflect the solution across the imaginary axis\n",
    "w = stablab.reflect_image(w)"
   ]
  },
  {
   "cell_type": "code",
   "execution_count": 10,
   "metadata": {},
   "outputs": [
    {
     "name": "stdout",
     "output_type": "stream",
     "text": [
      "Winding Number: 0.000000\n",
      "\n"
     ]
    }
   ],
   "source": [
    "# process and display data\n",
    "wnd = stablab.winding_number(w) # determine the number of roots inside the contour\n",
    "print('Winding Number: {:f}\\n'.format(wnd))"
   ]
  },
  {
   "cell_type": "code",
   "execution_count": 11,
   "metadata": {},
   "outputs": [
    {
     "data": {
      "image/png": "[encoded data removed]",
      "text/plain": [
       "<Figure size 432x288 with 1 Axes>"
      ]
     },
     "metadata": {
      "needs_background": "light"
     },
     "output_type": "display_data"
    }
   ],
   "source": [
    "# plot the Evans function (normalized)\n",
    "stablab.Evans_plot(w)"
   ]
  },
  {
   "cell_type": "code",
   "execution_count": null,
   "metadata": {},
   "outputs": [],
   "source": []
  }
 ],
 "metadata": {
  "kernelspec": {
   "display_name": "Python 3",
   "language": "python",
   "name": "python3"
  },
  "language_info": {
   "codemirror_mode": {
    "name": "ipython",
    "version": 3
   },
   "file_extension": ".py",
   "mimetype": "text/x-python",
   "name": "python",
   "nbconvert_exporter": "python",
   "pygments_lexer": "ipython3",
   "version": "3.6.6"
  }
 },
 "nbformat": 4,
 "nbformat_minor": 2
}
