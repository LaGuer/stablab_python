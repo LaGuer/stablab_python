{
 "cells": [
  {
   "cell_type": "code",
   "execution_count": 1,
   "metadata": {},
   "outputs": [],
   "source": [
    "import numpy as np\n",
    "import matplotlib.pyplot as plt\n",
    "from scipy.integrate import complex_ode\n",
    "from stablab import (semicirc, winding_number, Evans_plot, emcset,\n",
    "                       Evans_compute, soln, profile_flux, Struct)\n",
    "from stablab.evans import drury_no_radial, LdimRdim, reflect_image"
   ]
  },
  {
   "cell_type": "code",
   "execution_count": 2,
   "metadata": {},
   "outputs": [],
   "source": [
    "# Import local_model functions\n",
    "from local_model import (RH_local_model, H_local_model, \n",
    "                         full_gas_Hugoniot, F_local_model,\n",
    "                         Flinear_local_model,\n",
    "                         plot_profile_local_model, \n",
    "                         A_local_model_balflux)"
   ]
  },
  {
   "cell_type": "markdown",
   "metadata": {},
   "source": [
    "## Driver for flux and balanced flux formulation for full gas in Lagrangian coordinates"
   ]
  },
  {
   "cell_type": "code",
   "execution_count": 3,
   "metadata": {},
   "outputs": [],
   "source": [
    "# parameters\n",
    "S_neg_vals = [-1]  # -3.3 -3.31 #-(4.4:0.1:5);\n",
    "p = Struct()\n",
    "s = Struct()"
   ]
  },
  {
   "cell_type": "code",
   "execution_count": 4,
   "metadata": {},
   "outputs": [],
   "source": [
    "# Solve the profiles\n",
    "s_old = None\n",
    "for S in S_neg_vals:\n",
    "\n",
    "    p.S_neg = S\n",
    "\n",
    "    p.none = 1\n",
    "    p.mu = 1\n",
    "    p.kappa = 1\n",
    "    p.S0 = 0\n",
    "    p.tau0 = 1\n",
    "\n",
    "    # plus and minus infinity end states\n",
    "    p = RH_local_model(p)\n",
    "\n",
    "    # phase condition\n",
    "    s.phase = np.array([0.5*(p.tau_plus+p.tau_neg),0.5*(p.S_plus+p.S_neg)])\n",
    "\n",
    "    #order in which to apply phase conditions\n",
    "    s.order = np.array([0,1])\n",
    "\n",
    "    #profile ode\n",
    "    s.F = F_local_model\n",
    "\n",
    "    #Jacobian file\n",
    "    s.Flinear = Flinear_local_model\n",
    "\n",
    "    # number of profile equations to integrate\n",
    "    s.n = 2\n",
    "\n",
    "    # end states\n",
    "    s.UL = np.array([p.tau_neg, p.S_neg])\n",
    "    s.UR = np.array([p.tau_plus, p.S_plus])\n",
    "\n",
    "    s.stats = 'off'\n",
    "    # tolerance at end states\n",
    "    s.tol = 1e-6\n",
    "\n",
    "    p,s = profile_flux(p,s,s_old)\n",
    "\n",
    "    s_old = s"
   ]
  },
  {
   "cell_type": "code",
   "execution_count": 5,
   "metadata": {},
   "outputs": [
    {
     "data": {
      "image/png": "[encoded data removed]",
      "text/plain": [
       "<Figure size 432x288 with 1 Axes>"
      ]
     },
     "metadata": {
      "needs_background": "light"
     },
     "output_type": "display_data"
    }
   ],
   "source": [
    "# Plot the profile\n",
    "plot_profile_local_model(p,s)"
   ]
  },
  {
   "cell_type": "code",
   "execution_count": 6,
   "metadata": {},
   "outputs": [],
   "source": [
    "# Evans matrix (balanced flux form)\n",
    "Amat = A_local_model_balflux"
   ]
  },
  {
   "cell_type": "code",
   "execution_count": 7,
   "metadata": {},
   "outputs": [],
   "source": [
    "# structure variables\n",
    "s,e,m,c = emcset(s,'front',LdimRdim(Amat,s,p),'default',Amat)"
   ]
  },
  {
   "cell_type": "code",
   "execution_count": 8,
   "metadata": {},
   "outputs": [],
   "source": [
    "# refine the Evans function computation to achieve set relative error\n",
    "c.refine = 'on'\n",
    "\n",
    "# display a waitbar\n",
    "c.stats = 'off'\n",
    "\n",
    "m.method = drury_no_radial\n",
    "R = 10\n",
    "p.R = R"
   ]
  },
  {
   "cell_type": "code",
   "execution_count": 19,
   "metadata": {},
   "outputs": [],
   "source": [
    "# Set up the preimage\n",
    "circpnts = 20; imagpnts = 20; spread = 4; zerodist = 10**(-6);\n",
    "preimage = semicirc(circpnts,imagpnts,c.ksteps,R,spread,zerodist)"
   ]
  },
  {
   "cell_type": "code",
   "execution_count": 20,
   "metadata": {},
   "outputs": [],
   "source": [
    "# You could also set up the preimage with:\n",
    "\n",
    "# circpnts = 20; imagpnts = 20; innerpnts = 7; spread = 4; inner_radius = 10^(-4); lamda_steps = 0;\n",
    "# preimage = semicirc2(circpnts,imagpnts,innerpnts,c.ksteps,R,spread,inner_radius,lamda_steps);\n",
    "\n",
    "# or\n",
    "\n",
    "# c.ksteps = 2^12;\n",
    "# pnts = 2;\n",
    "# preimage = linspace(0.1,1e-4,pnts+(pnts-1)*c.ksteps);"
   ]
  },
  {
   "cell_type": "code",
   "execution_count": null,
   "metadata": {},
   "outputs": [],
   "source": [
    "# compute Evans function\n",
    "halfw, domain = Evans_compute(preimage,c,s,p,m,e)\n",
    "# Normalize the image\n",
    "w = halfw / halfw[0]\n",
    "# Reflect it about the imaginary axis\n",
    "w = reflect_image(w)"
   ]
  },
  {
   "cell_type": "code",
   "execution_count": null,
   "metadata": {},
   "outputs": [],
   "source": [
    "Evans_plot(w)"
   ]
  },
  {
   "cell_type": "code",
   "execution_count": null,
   "metadata": {},
   "outputs": [],
   "source": []
  }
 ],
 "metadata": {
  "kernelspec": {
   "display_name": "Python 3",
   "language": "python",
   "name": "python3"
  },
  "language_info": {
   "codemirror_mode": {
    "name": "ipython",
    "version": 3
   },
   "file_extension": ".py",
   "mimetype": "text/x-python",
   "name": "python",
   "nbconvert_exporter": "python",
   "pygments_lexer": "ipython3",
   "version": "3.6.6"
  }
 },
 "nbformat": 4,
 "nbformat_minor": 2
}
