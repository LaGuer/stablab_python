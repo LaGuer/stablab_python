{
 "cells": [
  {
   "cell_type": "code",
   "execution_count": 1,
   "metadata": {},
   "outputs": [],
   "source": [
    "import numpy as np\n",
    "from stablab import (semicirc2, winding_number, Evans_plot, emcset,\n",
    "                     Evans_compute, Struct, profile_flux, soln, reflect_image)\n",
    "import matplotlib.pyplot as plt"
   ]
  },
  {
   "cell_type": "code",
   "execution_count": 2,
   "metadata": {},
   "outputs": [],
   "source": [
    "# Profile Equations\n",
    "from full_gas import profile_jacobian, profile_ode\n",
    "\n",
    "# Evans function ODE equations\n",
    "from full_gas import A, A_k"
   ]
  },
  {
   "cell_type": "code",
   "execution_count": 3,
   "metadata": {},
   "outputs": [],
   "source": [
    "def setParams():\n",
    "    p = Struct({'Gamma': 2/3,\n",
    "            'v_plus': 0.7,\n",
    "            'mu': 1,\n",
    "            'cnu': 1,\n",
    "            'kappa': 1 })\n",
    "    p.update({\n",
    "            'v_star': p['Gamma']/(p['Gamma']+2) # correct see 2.33\n",
    "            })\n",
    "    p.update({\n",
    "            'e_plus': p['v_plus']*(p['Gamma']+2-p['Gamma']*p['v_plus'])/(2*p['Gamma']*(p['Gamma']+1)), # 2.35\n",
    "            'e_minus': (p['Gamma']+2)*(p['v_plus']-p['v_star'])/(2*p['Gamma']*(p['Gamma']+1)), # 2.34\n",
    "            'v_minus': 1,\n",
    "            'nu': p['kappa']/p['cnu'] # see below 2.25\n",
    "            })\n",
    "    return p"
   ]
  },
  {
   "cell_type": "code",
   "execution_count": 4,
   "metadata": {},
   "outputs": [],
   "source": [
    "# Inputs\n",
    "L = 10\n",
    "X_STEPS = 200\n",
    "p = setParams()"
   ]
  },
  {
   "cell_type": "code",
   "execution_count": 5,
   "metadata": {},
   "outputs": [],
   "source": [
    "# Initialising sol, the dict with solution values\n",
    "sol = Struct({\n",
    "    'n': 2, # this is the dimension of the profile ode\n",
    "    # we divide the domain in half to deal with the\n",
    "    # non-uniqueness caused by translational invariance\n",
    "    # sol.side = 1 means we are solving the profile on the interval [0,X]\n",
    "    'side': 1,\n",
    "    'F': profile_ode, # F is the profile ode\n",
    "    'Flinear': profile_jacobian, # J is the profile ode Jacobian\n",
    "    'UL': np.array([p['v_minus'],p['e_minus']]), # These are the endstates of the profile and its derivative at x = -infty\n",
    "    'UR': np.array([p['v_plus'],p['e_plus']]), # These are the endstates of the profile and its derivative at x = +infty\n",
    "    'tol': 1e-7\n",
    "    })\n",
    "sol.update({\n",
    "    'phase': 0.5*(sol['UL']+sol['UR']), # this is the phase condition for the profile at x = 0\n",
    "    'order': [1], # this indicates to which component the phase conditions is applied\n",
    "    'stats': 'on', # this prints data and plots the profile as it is solved\n",
    "    'bvp_options': {'Tol': 1e-6, 'Nmax': 200}\n",
    "    })"
   ]
  },
  {
   "cell_type": "code",
   "execution_count": 6,
   "metadata": {},
   "outputs": [
    {
     "name": "stdout",
     "output_type": "stream",
     "text": [
      "Profile boundary error:  0.06232786716333916\n",
      "Profile boundary error:  0.048984477369249935\n",
      "Profile boundary error:  0.03608878291410078\n",
      "Profile boundary error:  0.02454511955285532\n",
      "Profile boundary error:  0.0151471785122409\n",
      "Profile boundary error:  0.008319562012366943\n",
      "Profile boundary error:  0.003979295665510918\n",
      "Profile boundary error:  0.0016157615999087271\n",
      "Profile boundary error:  0.0005400018290014907\n",
      "Profile boundary error:  0.0001429796610452616\n",
      "Profile boundary error:  2.8607753695286675e-05\n",
      "Profile boundary error:  4.0813964645725065e-06\n",
      "Profile boundary error:  3.868421283304002e-07\n",
      "Profile boundary error:  2.2357975359987847e-08\n",
      "Profile boundary error:  2.50799567780291e-08\n",
      "Profile boundary error:  2.5005702286584608e-08\n"
     ]
    },
    {
     "data": {
      "image/png": "[encoded data removed]",
      "text/plain": [
       "<Figure size 432x288 with 1 Axes>"
      ]
     },
     "metadata": {
      "needs_background": "light"
     },
     "output_type": "display_data"
    }
   ],
   "source": [
    "# Solve for and plot the profile\n",
    "p,s = profile_flux(p,sol)\n",
    "\n",
    "x = np.linspace(s['L'],s['R'],200)\n",
    "y = soln(x,s)\n",
    "\n",
    "plt.figure(\"Profile\")\n",
    "plt.plot(x,y.real)\n",
    "plt.show()"
   ]
  },
  {
   "cell_type": "code",
   "execution_count": 7,
   "metadata": {},
   "outputs": [],
   "source": [
    "# set STABLAB structures to local default values\n",
    "#s, e, m, c = emcset(s, 'front', [2,3], 'reg_adj_compound', A, A_k)\n",
    "s, e, m, c = emcset(s,'front',[2,3],'reg_reg_polar',A)"
   ]
  },
  {
   "cell_type": "code",
   "execution_count": 8,
   "metadata": {},
   "outputs": [],
   "source": [
    "# Set up the preimage of the Evans function\n",
    "circpnts, imagpnts, innerpnts = 20, 30, 5\n",
    "r = 10\n",
    "spread = 4\n",
    "zerodist = 10**(-2)\n",
    "# ksteps, lambda_steps = 32, 0\n",
    "preimage = semicirc2(circpnts, imagpnts, innerpnts, c['ksteps'],\n",
    "                         r,spread,zerodist,c['lambda_steps'])"
   ]
  },
  {
   "cell_type": "code",
   "execution_count": 9,
   "metadata": {},
   "outputs": [],
   "source": [
    "# Compute the Evans function\n",
    "pre_w,temp = Evans_compute(preimage,c,s,p,m,e)\n",
    "# normalize the Evans function\n",
    "pre_w = pre_w/pre_w[0]"
   ]
  },
  {
   "cell_type": "code",
   "execution_count": 10,
   "metadata": {},
   "outputs": [
    {
     "data": {
      "image/png": "[encoded data removed]",
      "text/plain": [
       "<Figure size 432x288 with 1 Axes>"
      ]
     },
     "metadata": {
      "needs_background": "light"
     },
     "output_type": "display_data"
    }
   ],
   "source": [
    "# Reflect and plot the Evans function\n",
    "w = reflect_image(pre_w)\n",
    "Evans_plot(w)\n",
    "plt.show()"
   ]
  },
  {
   "cell_type": "code",
   "execution_count": 11,
   "metadata": {},
   "outputs": [
    {
     "data": {
      "text/plain": [
       "0"
      ]
     },
     "execution_count": 11,
     "metadata": {},
     "output_type": "execute_result"
    }
   ],
   "source": [
    "# Compute the winding number\n",
    "windnum = winding_number(w)\n",
    "windnum"
   ]
  },
  {
   "cell_type": "code",
   "execution_count": null,
   "metadata": {},
   "outputs": [],
   "source": []
  }
 ],
 "metadata": {
  "kernelspec": {
   "display_name": "Python 3",
   "language": "python",
   "name": "python3"
  },
  "language_info": {
   "codemirror_mode": {
    "name": "ipython",
    "version": 3
   },
   "file_extension": ".py",
   "mimetype": "text/x-python",
   "name": "python",
   "nbconvert_exporter": "python",
   "pygments_lexer": "ipython3",
   "version": "3.6.6"
  }
 },
 "nbformat": 4,
 "nbformat_minor": 2
}
